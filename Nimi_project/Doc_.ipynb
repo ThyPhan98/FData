{
 "cells": [
  {
   "cell_type": "markdown",
   "metadata": {},
   "source": [
    "## Data analysis"
   ]
  },
  {
   "cell_type": "markdown",
   "metadata": {},
   "source": [
    "### 1. Phân tích mức độ hiệu quả của sự kiện"
   ]
  },
  {
   "cell_type": "markdown",
   "metadata": {},
   "source": [
    "> *Dựa trên số lượng khách tham quan và tỷ lệ khách cũ/mới để cung cấp cái nhìn sâu sắc về sự hiệu quả của từng sự kiện trong việc thu hút và duy trì khách tham quan*\n",
    "\n",
    "- Sự kiện nào có khách tham quan nhiều nhất?\n",
    "\n",
    "- Sự kiện nào có lượt khách tham quan cũ cao?\n",
    "\n",
    "- Sự kiện nào thu hút khách tham quan mới nhiều?"
   ]
  },
  {
   "cell_type": "markdown",
   "metadata": {},
   "source": [
    "> *Ngoài ra, có thể đánh giá hiệu quả của sự kiện bằng cách tính toán ROI (Return on Investment) dựa trên số lượng khách tham gia, doanh thu, và chi phí tổ chức. (Dữ liệu chưa sẵn sàng)*"
   ]
  },
  {
   "cell_type": "markdown",
   "metadata": {},
   "source": [
    "### 2. Phân nhóm khách tham quan\n",
    "> *Có thể phân tích theo độ tuổi và giới tính, từ đó xác định xu hướng tham gia sự kiện của từng nhóm khách hàng*"
   ]
  },
  {
   "cell_type": "markdown",
   "metadata": {},
   "source": [
    "**a. Phân nhóm dựa trên tần suất tham gia sự kiện**\n",
    "\n",
    "- Khách tham quan thân thiết: Những người tham gia nhiều sự kiện trong một khoảng thời gian nhất định.\n",
    "\n",
    "- Khách tham quan thỉnh thoảng: Những người tham gia sự kiện không đều đặn, chỉ một vài lần.\n",
    "\n",
    "- Khách tham quan mới: Những người tham gia sự kiện lần đầu hoặc mới tham gia gần đây.\n",
    "\n",
    "> *Độ thường xuyên của khách tham quan sẽ được định nghĩa sau*"
   ]
  },
  {
   "cell_type": "markdown",
   "metadata": {},
   "source": [
    "**b. Phân nhóm dựa trên loại sự kiện đã tham gia**\n",
    "\n",
    "- Khách tham quan theo sở thích: Phân nhóm dựa trên loại sự kiện mà họ ưa thích tham gia, ví dụ: Phim ảnh, nghệ thuật, chương trình trò chuyện, ...\n",
    "\n",
    "- Khách tham quan chuyên môn: Những người tham gia các sự kiện liên quan đến một lĩnh vực cụ thể (ví dụ: công nghệ, nghệ thuật, khoa học)."
   ]
  },
  {
   "cell_type": "markdown",
   "metadata": {},
   "source": [
    "**c. Phân nhóm dựa trên chi phí của khách tham quan đã chi trả** \n",
    "> *Cần xác nhận lại giá trị trong bảng dữ liệu*\n",
    "\n",
    "- Khách tham quan cao cấp: Những người chấp nhận chi trả chi phí để thường xuyên tham gia các sự kiện hoặc mua các gói dịch vụ liên quan đến sự kiện.\n",
    "\n",
    "- Khách tham quan tiềm năng: Những người mới bắt đầu tham gia, nhưng có tiềm năng trở thành khách hàng cao cấp dựa trên hành vi hoặc sự quan tâm.\n",
    "\n",
    "- Khách tham quan nhạy cảm về giá: Chỉ tham gia các sự kiện miễn phí hoặc có chi phí thấp."
   ]
  },
  {
   "cell_type": "markdown",
   "metadata": {},
   "source": [
    "### 3. Phân tích Cohort\n",
    "> *Có thể phân tích theo chuỗi sự kiện cùng nhóm hoặc theo tháng*"
   ]
  },
  {
   "cell_type": "markdown",
   "metadata": {},
   "source": [
    "**a. Phân tích tỷ lệ duy trì:** đánh giá hành vi của một nhóm khách hàng cụ thể theo thời gian, giúp nhận diện các xu hướng và so sánh hiệu suất giữa các cohort khác nhau."
   ]
  },
  {
   "cell_type": "markdown",
   "metadata": {},
   "source": [
    "**b. Phân tích tỷ lệ giữ chân khách hàng:**  đánh giá sự thành công trong việc duy trì khách hàng hiện tại và ngăn chặn sự mất mát khách hàng."
   ]
  }
 ],
 "metadata": {
  "kernelspec": {
   "display_name": "Python 3",
   "language": "python",
   "name": "python3"
  },
  "language_info": {
   "codemirror_mode": {
    "name": "ipython",
    "version": 3
   },
   "file_extension": ".py",
   "mimetype": "text/x-python",
   "name": "python",
   "nbconvert_exporter": "python",
   "pygments_lexer": "ipython3",
   "version": "3.10.10"
  }
 },
 "nbformat": 4,
 "nbformat_minor": 2
}
